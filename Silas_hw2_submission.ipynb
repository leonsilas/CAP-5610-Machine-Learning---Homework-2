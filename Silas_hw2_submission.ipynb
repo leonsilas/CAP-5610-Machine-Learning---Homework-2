{
 "cells": [
  {
   "cell_type": "markdown",
   "id": "c57c8d8a",
   "metadata": {},
   "source": [
    "# Homework Assignment 2"
   ]
  },
  {
   "cell_type": "code",
   "execution_count": 1,
   "id": "9c11447a",
   "metadata": {},
   "outputs": [],
   "source": [
    "# import necessary packages\n",
    "from pandas import read_csv\n",
    "import matplotlib.pyplot as plt\n",
    "from sklearn.model_selection import RepeatedKFold\n",
    "from sklearn.model_selection import KFold\n",
    "from sklearn.model_selection import cross_val_score\n",
    "from sklearn.discriminant_analysis import LinearDiscriminantAnalysis\n",
    "from sklearn.linear_model import LogisticRegression\n",
    "from sklearn.neighbors import KNeighborsClassifier\n",
    "from sklearn.naive_bayes import GaussianNB\n",
    "from sklearn.svm import SVC\n",
    "from sklearn.decomposition import PCA\n",
    "from sklearn.pipeline import Pipeline\n",
    "from sklearn.pipeline import FeatureUnion\n",
    "from sklearn.preprocessing import StandardScaler\n",
    "from sklearn.feature_selection import SelectKBest\n",
    "from sklearn.ensemble import BaggingClassifier\n",
    "from sklearn.ensemble import AdaBoostClassifier\n",
    "from sklearn.ensemble import VotingClassifier\n",
    "from sklearn.tree import DecisionTreeClassifier\n",
    "import warnings\n",
    "warnings.filterwarnings(\"ignore\")\n",
    "\n",
    "# reading csv data file\n",
    "df = read_csv(\"myClassDataSet2.csv\")\n",
    "\n",
    "# data prep\n",
    "array = df.values\n",
    "data = array[:,0:10]\n",
    "target = array[:,10]"
   ]
  },
  {
   "cell_type": "markdown",
   "id": "61dd476e",
   "metadata": {},
   "source": [
    "## Problem 1"
   ]
  },
  {
   "cell_type": "markdown",
   "id": "3ccaea27",
   "metadata": {},
   "source": [
    "### (a) + (b)"
   ]
  },
  {
   "cell_type": "code",
   "execution_count": 2,
   "id": "7f2bbe28",
   "metadata": {},
   "outputs": [
    {
     "name": "stdout",
     "output_type": "stream",
     "text": [
      "Accuracy: 0.941\n",
      "Neg Log Loss: -0.197\n",
      "ROC AUC: 0.968\n"
     ]
    }
   ],
   "source": [
    "# creating LogisticRegression model and cross-validation RepeatedKFold\n",
    "logReg = LogisticRegression(solver=\"liblinear\")\n",
    "repKFold = RepeatedKFold(n_splits=10, n_repeats=3, random_state=4)\n",
    "\n",
    "# scoring and print\n",
    "model = logReg\n",
    "results_acc = cross_val_score(model, data, target, cv=repKFold, scoring='accuracy')\n",
    "results_neg = cross_val_score(model, data, target, cv=repKFold, scoring='neg_log_loss')\n",
    "results_roc = cross_val_score(model, data, target, cv=repKFold, scoring='roc_auc')\n",
    "print(\"Accuracy: %.3f\" % results_acc.mean())\n",
    "print(\"Neg Log Loss: %.3f\" % results_neg.mean())\n",
    "print(\"ROC AUC: %.3f\" % results_roc.mean())"
   ]
  },
  {
   "cell_type": "markdown",
   "id": "2f787d1c",
   "metadata": {},
   "source": [
    " > Individually our scores show good promise for our model, but together is where they really show that it is a good fit. Primarily seeing a good ROC AUC score with accuracy shows that our accuracy score could be taken at face value. "
   ]
  },
  {
   "cell_type": "markdown",
   "id": "4cf9df7c",
   "metadata": {},
   "source": [
    "### (c)"
   ]
  },
  {
   "cell_type": "code",
   "execution_count": 3,
   "id": "5ae4eeb9",
   "metadata": {},
   "outputs": [
    {
     "name": "stdout",
     "output_type": "stream",
     "text": [
      "LDA: 0.932 mean  0.006 std\n",
      "LR: 0.941 mean  0.006 std\n",
      "KNN: 0.935 mean  0.008 std\n",
      "GNB: 0.942 mean  0.006 std\n",
      "SVM: 0.943 mean  0.006 std\n"
     ]
    }
   ],
   "source": [
    "# new cross-validation and models to compare with model above\n",
    "kFold = KFold(n_splits=10, random_state=4, shuffle=True)\n",
    "linearDA = LinearDiscriminantAnalysis()\n",
    "kNeighbors = KNeighborsClassifier()\n",
    "gaussianNB = GaussianNB()\n",
    "sVM = SVC()\n",
    "\n",
    "testModels=[]\n",
    "testModels.append((\"LDA\", linearDA))\n",
    "testModels.append((\"LR\", logReg))\n",
    "testModels.append((\"KNN\", kNeighbors))\n",
    "testModels.append((\"GNB\", gaussianNB))\n",
    "testModels.append((\"SVM\", sVM))\n",
    "\n",
    "# run through each algorithm and output mean & std\n",
    "totalResults = []\n",
    "algNames = []\n",
    "for name, model in testModels:\n",
    "    results = cross_val_score(model, data, target, cv=kFold, scoring='accuracy')\n",
    "    algNames.append(name)\n",
    "    totalResults.append(results)\n",
    "    print( \"%s: %.3f mean  %.3f std\" % (name, results.mean(), results.std()))"
   ]
  },
  {
   "cell_type": "markdown",
   "id": "0fa56ea5",
   "metadata": {},
   "source": [
    "### (d)"
   ]
  },
  {
   "cell_type": "code",
   "execution_count": 4,
   "id": "8b9b6da9",
   "metadata": {},
   "outputs": [
    {
     "data": {
      "image/png": "[encoded data removed]",
      "text/plain": [
       "<Figure size 640x480 with 1 Axes>"
      ]
     },
     "metadata": {},
     "output_type": "display_data"
    }
   ],
   "source": [
    "# setting up and showing boxplots\n",
    "fig = plt.figure()\n",
    "fig.suptitle(\"Model Accuracy Comparision\")\n",
    "ax = fig.add_subplot()\n",
    "plt.boxplot(totalResults)\n",
    "ax.set_xticklabels(algNames)\n",
    "plt.show()"
   ]
  },
  {
   "cell_type": "markdown",
   "id": "32b1aba9",
   "metadata": {},
   "source": [
    " > The boxplots above show just how much variance in accuracy can exist based on the supporting model.  Take SVM for example, where the boxplot is very short with only a few outliers on the lower and upper ends.  This shows relative low variance in our scores compared to KNN which had a majority of our scores ranging anywhere from the lower .920 to the upper .950. We're also able to see how LR, GNB, and SVM fare much better on average compared to LDA and KNN."
   ]
  },
  {
   "cell_type": "markdown",
   "id": "f27cbe38",
   "metadata": {},
   "source": [
    "## Problem 2"
   ]
  },
  {
   "cell_type": "code",
   "execution_count": 5,
   "id": "eccb79b9",
   "metadata": {},
   "outputs": [
    {
     "name": "stdout",
     "output_type": "stream",
     "text": [
      "Accuracy: 0.941\n"
     ]
    }
   ],
   "source": [
    "# setting up cv, features for union, and steps for pipeline\n",
    "kFold = KFold(n_splits=10, random_state=5, shuffle=True)\n",
    "\n",
    "features = []\n",
    "features.append((\"PCA\", PCA(n_components=3)))\n",
    "features.append((\"KBest\", SelectKBest(k=6)))\n",
    "\n",
    "steps = []\n",
    "steps.append((\"StdScaler\", StandardScaler()))\n",
    "steps.append((\"FeatureUnion\", FeatureUnion(features)))\n",
    "steps.append((\"LogRegression\", LogisticRegression(solver='liblinear')))\n",
    "\n",
    "# evaluating the pipeline\n",
    "model = Pipeline(steps)\n",
    "results = cross_val_score(model, data, target, cv=kFold)\n",
    "print(\"Accuracy: %.3f\" % results.mean())"
   ]
  },
  {
   "cell_type": "markdown",
   "id": "a062cc5c",
   "metadata": {},
   "source": [
    " > A 0.941 accuracy score is shows a solid pipeline model has been constructed.  However, comparing our pipeline to the above problem one, we can see how our pipeline seems to perform just as accurately to our repeatedKFold regression."
   ]
  },
  {
   "cell_type": "markdown",
   "id": "844a11a5",
   "metadata": {},
   "source": [
    "## Problem 3"
   ]
  },
  {
   "cell_type": "code",
   "execution_count": 6,
   "id": "24efaef8",
   "metadata": {},
   "outputs": [],
   "source": [
    "# kFold for use in all 3 parts\n",
    "kFold = KFold(n_splits=10, random_state=7, shuffle=True)"
   ]
  },
  {
   "cell_type": "markdown",
   "id": "a030ce57",
   "metadata": {},
   "source": [
    "### (a)"
   ]
  },
  {
   "cell_type": "code",
   "execution_count": 7,
   "id": "766f3a6b",
   "metadata": {},
   "outputs": [
    {
     "name": "stdout",
     "output_type": "stream",
     "text": [
      "Accuracy: 0.949\n"
     ]
    }
   ],
   "source": [
    "# BaggingClassifier with DecisionTreeClassifier\n",
    "model = BaggingClassifier(base_estimator=DecisionTreeClassifier(), n_estimators=100, random_state=7)\n",
    "results = cross_val_score(model, data, target, cv=kFold)\n",
    "print(\"Accuracy: %.3f\" % results.mean())"
   ]
  },
  {
   "cell_type": "markdown",
   "id": "b5c60441",
   "metadata": {},
   "source": [
    "### (b)"
   ]
  },
  {
   "cell_type": "code",
   "execution_count": 8,
   "id": "b66e3424",
   "metadata": {},
   "outputs": [
    {
     "name": "stdout",
     "output_type": "stream",
     "text": [
      "Accuracy: 0.944\n"
     ]
    }
   ],
   "source": [
    "# AdaBoostClassifier\n",
    "model = AdaBoostClassifier(n_estimators=30, random_state=7)\n",
    "results = cross_val_score(model, data, target, cv=kFold)\n",
    "print(\"Accuracy: %.3f\" % results.mean())"
   ]
  },
  {
   "cell_type": "markdown",
   "id": "2c0e1aee",
   "metadata": {},
   "source": [
    "### (c)"
   ]
  },
  {
   "cell_type": "code",
   "execution_count": 9,
   "id": "41639792",
   "metadata": {},
   "outputs": [
    {
     "name": "stdout",
     "output_type": "stream",
     "text": [
      "Accuracy: 0.947\n"
     ]
    }
   ],
   "source": [
    "# VotingClassifier\n",
    "# setting up models\n",
    "models = []\n",
    "models.append((\"LR\", LogisticRegression(solver='liblinear')))\n",
    "models.append((\"DTC\", DecisionTreeClassifier()))\n",
    "models.append((\"SVM\", SVC()))\n",
    "\n",
    "#creating ensemble and results\n",
    "ensemble = VotingClassifier(models)\n",
    "results = cross_val_score(ensemble, data, target, cv=kFold)\n",
    "print(\"Accuracy: %.3f\" % results.mean())"
   ]
  },
  {
   "cell_type": "markdown",
   "id": "87098d91",
   "metadata": {},
   "source": [
    "> All of these accuracies have reported the same, and also consistently compared to the previous individual models in problem 1.  This attests to their improved performance."
   ]
  }
 ],
 "metadata": {
  "kernelspec": {
   "display_name": "Python 3 (ipykernel)",
   "language": "python",
   "name": "python3"
  },
  "language_info": {
   "codemirror_mode": {
    "name": "ipython",
    "version": 3
   },
   "file_extension": ".py",
   "mimetype": "text/x-python",
   "name": "python",
   "nbconvert_exporter": "python",
   "pygments_lexer": "ipython3",
   "version": "3.9.13"
  }
 },
 "nbformat": 4,
 "nbformat_minor": 5
}
